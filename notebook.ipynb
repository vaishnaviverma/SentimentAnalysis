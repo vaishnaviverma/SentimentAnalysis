{
 "cells": [
  {
   "cell_type": "code",
   "execution_count": 41,
   "metadata": {},
   "outputs": [],
   "source": [
    "from tensorflow.keras.datasets import imdb\n",
    "from tensorflow.keras.preprocessing.sequence import pad_sequences"
   ]
  },
  {
   "cell_type": "code",
   "execution_count": 17,
   "metadata": {},
   "outputs": [],
   "source": [
    "#Loading the dataset\n",
    "(x_train, y_train), (x_test, y_test) = imdb.load_data(num_words=10000)\n",
    "\n",
    "# Pad sequesnces to same length\n",
    "x_train = pad_sequences(x_train, maxlen=256)\n",
    "x_test = pad_sequences(x_test, maxlen=256)"
   ]
  },
  {
   "cell_type": "code",
   "execution_count": 18,
   "metadata": {},
   "outputs": [],
   "source": [
    "#Building the model\n",
    "\n",
    "from tensorflow.keras import Sequential\n",
    "from tensorflow.keras.layers import Embedding, GlobalAveragePooling1D, Dense\n",
    "\n",
    "model = Sequential([\n",
    "        Embedding(input_dim=10000,output_dim=16),\n",
    "        GlobalAveragePooling1D(),\n",
    "        Dense(16, activation='relu'),\n",
    "        Dense(1, activation='sigmoid')\n",
    "])\n"
   ]
  },
  {
   "cell_type": "code",
   "execution_count": 42,
   "metadata": {},
   "outputs": [
    {
     "name": "stdout",
     "output_type": "stream",
     "text": [
      "Epoch 1/10\n",
      "\u001b[1m40/40\u001b[0m \u001b[32m━━━━━━━━━━━━━━━━━━━━\u001b[0m\u001b[37m\u001b[0m \u001b[1m2s\u001b[0m 23ms/step - accuracy: 0.7291 - loss: 0.6511 - val_accuracy: 0.7340 - val_loss: 0.6257\n",
      "Epoch 2/10\n",
      "\u001b[1m40/40\u001b[0m \u001b[32m━━━━━━━━━━━━━━━━━━━━\u001b[0m\u001b[37m\u001b[0m \u001b[1m1s\u001b[0m 16ms/step - accuracy: 0.7400 - loss: 0.6170 - val_accuracy: 0.7780 - val_loss: 0.5836\n",
      "Epoch 3/10\n",
      "\u001b[1m40/40\u001b[0m \u001b[32m━━━━━━━━━━━━━━━━━━━━\u001b[0m\u001b[37m\u001b[0m \u001b[1m1s\u001b[0m 15ms/step - accuracy: 0.7902 - loss: 0.5710 - val_accuracy: 0.8012 - val_loss: 0.5338\n",
      "Epoch 4/10\n",
      "\u001b[1m40/40\u001b[0m \u001b[32m━━━━━━━━━━━━━━━━━━━━\u001b[0m\u001b[37m\u001b[0m \u001b[1m1s\u001b[0m 15ms/step - accuracy: 0.8170 - loss: 0.5172 - val_accuracy: 0.8180 - val_loss: 0.4841\n",
      "Epoch 5/10\n",
      "\u001b[1m40/40\u001b[0m \u001b[32m━━━━━━━━━━━━━━━━━━━━\u001b[0m\u001b[37m\u001b[0m \u001b[1m1s\u001b[0m 16ms/step - accuracy: 0.8322 - loss: 0.4650 - val_accuracy: 0.8318 - val_loss: 0.4420\n",
      "Epoch 6/10\n",
      "\u001b[1m40/40\u001b[0m \u001b[32m━━━━━━━━━━━━━━━━━━━━\u001b[0m\u001b[37m\u001b[0m \u001b[1m1s\u001b[0m 16ms/step - accuracy: 0.8493 - loss: 0.4202 - val_accuracy: 0.8452 - val_loss: 0.4077\n",
      "Epoch 7/10\n",
      "\u001b[1m40/40\u001b[0m \u001b[32m━━━━━━━━━━━━━━━━━━━━\u001b[0m\u001b[37m\u001b[0m \u001b[1m1s\u001b[0m 17ms/step - accuracy: 0.8588 - loss: 0.3847 - val_accuracy: 0.8522 - val_loss: 0.3802\n",
      "Epoch 8/10\n",
      "\u001b[1m40/40\u001b[0m \u001b[32m━━━━━━━━━━━━━━━━━━━━\u001b[0m\u001b[37m\u001b[0m \u001b[1m1s\u001b[0m 15ms/step - accuracy: 0.8706 - loss: 0.3548 - val_accuracy: 0.8532 - val_loss: 0.3657\n",
      "Epoch 9/10\n",
      "\u001b[1m40/40\u001b[0m \u001b[32m━━━━━━━━━━━━━━━━━━━━\u001b[0m\u001b[37m\u001b[0m \u001b[1m1s\u001b[0m 16ms/step - accuracy: 0.8759 - loss: 0.3297 - val_accuracy: 0.8604 - val_loss: 0.3457\n",
      "Epoch 10/10\n",
      "\u001b[1m40/40\u001b[0m \u001b[32m━━━━━━━━━━━━━━━━━━━━\u001b[0m\u001b[37m\u001b[0m \u001b[1m1s\u001b[0m 15ms/step - accuracy: 0.8852 - loss: 0.3085 - val_accuracy: 0.8480 - val_loss: 0.3462\n"
     ]
    }
   ],
   "source": [
    "#Compile and train\n",
    "\n",
    "model.compile(optimizer='adam',                     #Adam = Adaptive Moment Estimation (great default choice, updates the model weight in a smart way based on gradient of the loss function)\n",
    "              loss='binary_crossentropy',           #Since we are doin the binary classification, it is the right choice. Tells how wrong the model is\n",
    "              metrics=['accuracy'])                 #Tells Keras to track accuracy\n",
    "\n",
    "history = model.fit(x_train, y_train, epochs=10, batch_size=512, validation_split=0.2) #returns object containing loss, accuracy"
   ]
  },
  {
   "cell_type": "code",
   "execution_count": null,
   "metadata": {},
   "outputs": [
    {
     "name": "stdout",
     "output_type": "stream",
     "text": [
      "\u001b[1m782/782\u001b[0m \u001b[32m━━━━━━━━━━━━━━━━━━━━\u001b[0m\u001b[37m\u001b[0m \u001b[1m2s\u001b[0m 2ms/step - accuracy: 0.8587 - loss: 0.3495\n",
      "Test Accuracy: [0.3531104624271393, 0.8573200106620789]\n"
     ]
    }
   ],
   "source": [
    "#Evaluate\n",
    "\n",
    "results = model.evaluate(x_test, y_test)\n",
    "print(f\"Test Accuracy: {results}\")"
   ]
  },
  {
   "cell_type": "code",
   "execution_count": null,
   "metadata": {},
   "outputs": [
    {
     "name": "stdout",
     "output_type": "stream",
     "text": [
      "\u001b[1m782/782\u001b[0m \u001b[32m━━━━━━━━━━━━━━━━━━━━\u001b[0m\u001b[37m\u001b[0m \u001b[1m1s\u001b[0m 1ms/step\n",
      "Precision: 0.8873471511577486, Recall: 0.81856, F1 Score: 0.8515667263118472\n"
     ]
    }
   ],
   "source": [
    "#Validation Metrics\n",
    "\n",
    "from sklearn.metrics import precision_score, recall_score, f1_score\n",
    "\n",
    "y_pred = (model.predict(x_test)>0.5).astype(\"int32\")\n",
    "\n",
    "percision = precision_score(y_test, y_pred)\n",
    "recall = recall_score(y_test, y_pred)\n",
    "f1 = f1_score(y_test, y_pred)\n",
    "\n",
    "print(f'Precision: {percision}, Recall: {recall}, F1 Score: {f1}')"
   ]
  },
  {
   "cell_type": "code",
   "execution_count": null,
   "metadata": {},
   "outputs": [
    {
     "data": {
      "image/png": "[encoded data removed]",
      "text/plain": [
       "<Figure size 640x480 with 1 Axes>"
      ]
     },
     "metadata": {},
     "output_type": "display_data"
    }
   ],
   "source": [
    "import matplotlib.pyplot as plt\n",
    "\n",
    "plt.plot(history.history['accuracy'], label='train acc')\n",
    "plt.plot(history.history['val_accuracy'], label = 'val acc')\n",
    "plt.legend()\n",
    "plt.show()"
   ]
  },
  {
   "cell_type": "code",
   "execution_count": 43,
   "metadata": {},
   "outputs": [],
   "source": [
    "#Check custom reviews\n",
    "from tensorflow.keras.preprocessing.text import text_to_word_sequence\n",
    "import numpy as np\n",
    "\n",
    "#Load the word index\n",
    "word_index = imdb.get_word_index()\n",
    "\n",
    "#Shift indices by 3 because Keras reserves 0,1,2 for special tokens\n",
    "word_index = {k: (v+3) for k,v in word_index.items()}\n",
    "word_index[\"<PAD>\"] = 0\n",
    "word_index[\"<START>\"] = 1\n",
    "word_index[\"<UNK>\"] = 2\n",
    "word_index[\"<UNUSED>\"] = 3\n",
    "\n",
    "#Function to encode custom text\n",
    "def encode_review(text):\n",
    "    words = text_to_word_sequence(text)\n",
    "    encoded = [1] # 1 is the \"start\" token\n",
    "    for word in words:\n",
    "        index = word_index.get(word,2) #2 is for unknown words\n",
    "        encoded.append(index)\n",
    "    return pad_sequences([encoded], maxlen=256)\n",
    "\n",
    "\n"
   ]
  },
  {
   "cell_type": "code",
   "execution_count": null,
   "metadata": {},
   "outputs": [
    {
     "name": "stdout",
     "output_type": "stream",
     "text": [
      "\u001b[1m1/1\u001b[0m \u001b[32m━━━━━━━━━━━━━━━━━━━━\u001b[0m\u001b[37m\u001b[0m \u001b[1m0s\u001b[0m 64ms/step\n",
      "The sentiment is negative with 0.5163151621818542 accuracy!\n"
     ]
    }
   ],
   "source": [
    "#Get user input\n",
    "\n",
    "user_input = input(\"Enter your movie review: \")\n",
    "\n",
    "#Encode and predict\n",
    "encoded_input = encode_review(user_input)\n",
    "prediction = model.predict(encoded_input) [0][0] #Extracts the raw prediction value, like 0.87, instead of [[0.87]].\n",
    "\n",
    "#Display result:\n",
    "if prediction>0.52:\n",
    "    print(f'The sentiment is positive with {prediction} accuracy!')\n",
    "else:\n",
    "    print(f'The sentiment is negative with {prediction} accuracy!')"
   ]
  },
  {
   "cell_type": "markdown",
   "metadata": {},
   "source": [
    "Test your own inputs such as:\n",
    "- The movie was fantastic, I loved it!\n",
    "- The movie was bad and boring, actors did a bad job and I expected more."
   ]
  },
  {
   "cell_type": "code",
   "execution_count": null,
   "metadata": {},
   "outputs": [],
   "source": [
    "model.save('sentiment_model.h5')"
   ]
  },
  {
   "cell_type": "markdown",
   "metadata": {},
   "source": []
  }
 ],
 "metadata": {
  "kernelspec": {
   "display_name": "Python 3",
   "language": "python",
   "name": "python3"
  },
  "language_info": {
   "codemirror_mode": {
    "name": "ipython",
    "version": 3
   },
   "file_extension": ".py",
   "mimetype": "text/x-python",
   "name": "python",
   "nbconvert_exporter": "python",
   "pygments_lexer": "ipython3",
   "version": "3.11.7"
  }
 },
 "nbformat": 4,
 "nbformat_minor": 2
}
